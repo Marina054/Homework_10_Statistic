{
 "cells": [
  {
   "cell_type": "code",
   "execution_count": 9,
   "id": "463d6238",
   "metadata": {},
   "outputs": [],
   "source": [
    "import numpy as np\n",
    "import matplotlib.pyplot as plt\n",
    "import scipy.stats as st\n",
    "from statsmodels.stats.multicomp import pairwise_tukeyhsd\n",
    "import statsmodels.api as sm\n",
    "import pandas as pd\n",
    "from scipy.stats import bartlett\n",
    "import seaborn as sns\n"
   ]
  },
  {
   "cell_type": "markdown",
   "id": "9c03b8dd",
   "metadata": {},
   "source": [
    "Провести дисперсионный анализ для определения того, есть ли различия среднего роста среди взрослых футболистов, хоккеистов и штангистов. Даны значения роста в трех группах случайно выбранных спортсменов: Футболисты: 173, 175, 180, 178, 177, 185, 183, 182. Хоккеисты: 177, 179, 180, 188, 177, 172, 171, 184, 180. Штангисты: 172, 173, 169, 177, 166, 180, 178, 177, 172, 166, 170."
   ]
  },
  {
   "cell_type": "code",
   "execution_count": 10,
   "id": "1c36c7dc",
   "metadata": {},
   "outputs": [],
   "source": [
    "F = np.array([173, 175, 180, 178, 177, 185, 183, 182 ]) \n",
    "H = np.array([177, 179, 180, 188, 177, 172, 171, 184, 180 ])\n",
    "S = np.array([172, 173, 169, 177, 166, 180, 178, 177, 172, 166, 170 ])"
   ]
  },
  {
   "cell_type": "code",
   "execution_count": 11,
   "id": "7c0bee40",
   "metadata": {},
   "outputs": [
    {
     "data": {
      "text/plain": [
       "ShapiroResult(statistic=0.9775082468986511, pvalue=0.9495404362678528)"
      ]
     },
     "execution_count": 11,
     "metadata": {},
     "output_type": "execute_result"
    }
   ],
   "source": [
    "st.shapiro(F)"
   ]
  },
  {
   "cell_type": "code",
   "execution_count": 12,
   "id": "c90e2843",
   "metadata": {},
   "outputs": [
    {
     "data": {
      "text/plain": [
       "ShapiroResult(statistic=0.9579196572303772, pvalue=0.7763139009475708)"
      ]
     },
     "execution_count": 12,
     "metadata": {},
     "output_type": "execute_result"
    }
   ],
   "source": [
    "st.shapiro(H)"
   ]
  },
  {
   "cell_type": "code",
   "execution_count": 13,
   "id": "e1f3785f",
   "metadata": {},
   "outputs": [
    {
     "data": {
      "text/plain": [
       "ShapiroResult(statistic=0.9386808276176453, pvalue=0.5051165223121643)"
      ]
     },
     "execution_count": 13,
     "metadata": {},
     "output_type": "execute_result"
    }
   ],
   "source": [
    "st.shapiro(S)"
   ]
  },
  {
   "cell_type": "markdown",
   "id": "cac1b2c7",
   "metadata": {},
   "source": [
    "Условия нормальности не соблюдаются"
   ]
  },
  {
   "cell_type": "code",
   "execution_count": 14,
   "id": "a76b1d44",
   "metadata": {},
   "outputs": [
    {
     "data": {
      "text/plain": [
       "BartlettResult(statistic=0.4640521043406442, pvalue=0.7929254656083131)"
      ]
     },
     "execution_count": 14,
     "metadata": {},
     "output_type": "execute_result"
    }
   ],
   "source": [
    "st.bartlett(F, H, S)"
   ]
  },
  {
   "cell_type": "code",
   "execution_count": 42,
   "id": "8f8b167e",
   "metadata": {},
   "outputs": [
    {
     "data": {
      "text/plain": [
       "KruskalResult(statistic=7.897493213863828, pvalue=0.01927885061595347)"
      ]
     },
     "execution_count": 42,
     "metadata": {},
     "output_type": "execute_result"
    }
   ],
   "source": [
    "st.kruskal(F, H, S)"
   ]
  },
  {
   "cell_type": "markdown",
   "id": "4e400512",
   "metadata": {},
   "source": [
    "Т.к. pvalue меньше 5%, то статистические различия есть."
   ]
  },
  {
   "cell_type": "code",
   "execution_count": 66,
   "id": "95b298d7",
   "metadata": {},
   "outputs": [
    {
     "data": {
      "image/png": "[encoded data removed]",
      "text/plain": [
       "<Figure size 640x480 with 1 Axes>"
      ]
     },
     "metadata": {},
     "output_type": "display_data"
    }
   ],
   "source": [
    "fig, ax = plt.subplots()\n",
    "sns.ecdfplot(x=F, stat = \"count\", label='Футболисты ')\n",
    "sns.ecdfplot(x=H, stat = \"count\", label='Хоккеисты')\n",
    "sns.ecdfplot(x=S, stat = \"count\", label='Штангисты')\n",
    "ax.legend();\n"
   ]
  },
  {
   "cell_type": "code",
   "execution_count": null,
   "id": "4abc23f1",
   "metadata": {},
   "outputs": [],
   "source": []
  }
 ],
 "metadata": {
  "kernelspec": {
   "display_name": "Python 3",
   "language": "python",
   "name": "python3"
  },
  "language_info": {
   "codemirror_mode": {
    "name": "ipython",
    "version": 3
   },
   "file_extension": ".py",
   "mimetype": "text/x-python",
   "name": "python",
   "nbconvert_exporter": "python",
   "pygments_lexer": "ipython3",
   "version": "3.11.2"
  },
  "vscode": {
   "interpreter": {
    "hash": "9bc86f677d74d1d35499f6da6512f487baa55fb91e0f06515e2bd548e1762889"
   }
  }
 },
 "nbformat": 4,
 "nbformat_minor": 5
}
