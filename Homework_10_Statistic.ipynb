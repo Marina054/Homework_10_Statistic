{
 "cells": [
  {
   "cell_type": "code",
   "execution_count": 1,
   "id": "83b9b886",
   "metadata": {},
   "outputs": [],
   "source": [
    "import numpy as np\n",
    "import matplotlib.pyplot as plt\n",
    "import scipy.stats as st\n",
    "from statsmodels.stats.multicomp import pairwise_tukeyhsd\n",
    "import statsmodels.api as sm\n",
    "import pandas as pd\n",
    "from scipy.stats import bartlett"
   ]
  },
  {
   "cell_type": "markdown",
   "id": "3c29a933",
   "metadata": {},
   "source": [
    "Провести дисперсионный анализ для определения того, есть ли различия среднего роста среди взрослых футболистов, хоккеистов и штангистов. Даны значения роста в трех группах случайно выбранных спортсменов: Футболисты: 173, 175, 180, 178, 177, 185, 183, 182. Хоккеисты: 177, 179, 180, 188, 177, 172, 171, 184, 180. Штангисты: 172, 173, 169, 177, 166, 180, 178, 177, 172, 166, 170."
   ]
  },
  {
   "cell_type": "code",
   "execution_count": 2,
   "id": "4b95423d",
   "metadata": {},
   "outputs": [],
   "source": [
    "F = np.array([173, 175, 180, 178, 177, 185, 183, 182 ]) \n",
    "H = np.array([177, 179, 180, 188, 177, 172, 171, 184, 180 ])\n",
    "S = np.array([172, 173, 169, 177, 166, 180, 178, 177, 172, 166, 170 ])"
   ]
  },
  {
   "cell_type": "code",
   "execution_count": 3,
   "id": "c73e94ff",
   "metadata": {},
   "outputs": [
    {
     "data": {
      "text/plain": [
       "ShapiroResult(statistic=0.9775082468986511, pvalue=0.9495404362678528)"
      ]
     },
     "execution_count": 3,
     "metadata": {},
     "output_type": "execute_result"
    }
   ],
   "source": [
    "st.shapiro(F)"
   ]
  },
  {
   "cell_type": "code",
   "execution_count": 4,
   "id": "41691b9f",
   "metadata": {},
   "outputs": [
    {
     "data": {
      "text/plain": [
       "ShapiroResult(statistic=0.9579196572303772, pvalue=0.7763139009475708)"
      ]
     },
     "execution_count": 4,
     "metadata": {},
     "output_type": "execute_result"
    }
   ],
   "source": [
    "st.shapiro(H)"
   ]
  },
  {
   "cell_type": "code",
   "execution_count": 5,
   "id": "9ecb9732",
   "metadata": {},
   "outputs": [
    {
     "data": {
      "text/plain": [
       "ShapiroResult(statistic=0.9386808276176453, pvalue=0.5051165223121643)"
      ]
     },
     "execution_count": 5,
     "metadata": {},
     "output_type": "execute_result"
    }
   ],
   "source": [
    "st.shapiro(S)"
   ]
  },
  {
   "cell_type": "markdown",
   "id": "f1c79208",
   "metadata": {},
   "source": [
    "Условия нормальности не соблюдаются"
   ]
  },
  {
   "cell_type": "code",
   "execution_count": 6,
   "id": "ca554c44",
   "metadata": {},
   "outputs": [
    {
     "data": {
      "text/plain": [
       "BartlettResult(statistic=0.4640521043406442, pvalue=0.7929254656083131)"
      ]
     },
     "execution_count": 6,
     "metadata": {},
     "output_type": "execute_result"
    }
   ],
   "source": [
    "st.bartlett(F, H, S)"
   ]
  },
  {
   "cell_type": "code",
   "execution_count": 7,
   "id": "c35af29a",
   "metadata": {},
   "outputs": [
    {
     "data": {
      "text/plain": [
       "KruskalResult(statistic=7.897493213863828, pvalue=0.01927885061595347)"
      ]
     },
     "execution_count": 7,
     "metadata": {},
     "output_type": "execute_result"
    }
   ],
   "source": [
    "st.kruskal(F, H, S)"
   ]
  },
  {
   "cell_type": "markdown",
   "id": "63f3f241",
   "metadata": {},
   "source": [
    "Т.к. pvalue меньше 5%, то статистические различия есть."
   ]
  },
  {
   "cell_type": "code",
   "execution_count": null,
   "id": "890a80f4",
   "metadata": {},
   "outputs": [],
   "source": []
  }
 ],
 "metadata": {
  "kernelspec": {
   "display_name": "Python 3 (ipykernel)",
   "language": "python",
   "name": "python3"
  },
  "language_info": {
   "codemirror_mode": {
    "name": "ipython",
    "version": 3
   },
   "file_extension": ".py",
   "mimetype": "text/x-python",
   "name": "python",
   "nbconvert_exporter": "python",
   "pygments_lexer": "ipython3",
   "version": "3.9.13"
  }
 },
 "nbformat": 4,
 "nbformat_minor": 5
}
